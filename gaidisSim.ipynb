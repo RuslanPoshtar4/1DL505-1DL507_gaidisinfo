{
 "cells": [
  {
   "cell_type": "code",
   "execution_count": 1,
   "metadata": {},
   "outputs": [],
   "source": [
    "import networkx as nx\n",
    "import numpy as np\n",
    "import matplotlib.pyplot as plt\n",
    "import numpy as np\n",
    "import random\n",
    "import pandas as pd\n",
    "import time \n",
    "import openai\n",
    "import csv\n",
    "# Provide your own openai key\n",
    "openai.api_key = ''"
   ]
  },
  {
   "cell_type": "code",
   "execution_count": 90,
   "metadata": {},
   "outputs": [],
   "source": [
    "### User parameter\n",
    "number_of_User = 2\n",
    "percentage_of_Human_Bot= 0.15\n",
    "number_of_article = 3\n",
    "\n",
    "### Alignment\n",
    "inclination_List = ['leftist', 'centrist', 'right wing']\n",
    "inclination_rate = [0.33, 0.34, 0.33]\n",
    "\n",
    "### Coloring\n",
    "Human_Color = 'blue'\n",
    "Bot_Color = 'red'\n",
    "Dis_Color = 'orange'\n",
    "Article_Color = 'green'\n",
    "New_Article_Color = 'purple'\n",
    "\n",
    "### Algorithm assign post to Users\n",
    "# - 1. All assign to robot with normal distribution\n",
    "# - 2. Normal distribution to both Human and Robot\n",
    "Alg_assign_post = '2'\n",
    "\n",
    "\n",
    "### Time\n",
    "total_time = 3 # How many tick\n",
    "rate_new_bot_per_tick = 0.05\n",
    "post_per_tick = 1\n",
    "\n",
    "### Action1: Follow\n",
    "# - 1. log-normal distribution\n",
    "# - 2. percentage\n",
    "follow_rate = '1'\n",
    "follow_percentage = 0.3\n",
    "\n",
    "\n",
    "### Action3: post\n",
    "# - 1. init_only_bot_post\n",
    "# - 2. init_both_post\n",
    "# - 3. init_human_post\n",
    "init_case = 'init_both_post'\n"
   ]
  },
  {
   "cell_type": "markdown",
   "metadata": {},
   "source": [
    "### Create Node(Human, Bot, Article)"
   ]
  },
  {
   "cell_type": "code",
   "execution_count": 112,
   "metadata": {},
   "outputs": [],
   "source": [
    "def create_user_node(system, number_of_User):\n",
    "    if follow_rate == '1':\n",
    "        # Generate in-degrees (number of nodes pointing to each user) using a log-normal distribution\n",
    "        in_degrees = np.round(np.random.lognormal(mean=1.5, sigma=0.8, size=number_of_User)) \n",
    "    if follow_rate == '2':\n",
    "        total_followers = int(number_of_User * percentage_of_Human_Bot)\n",
    "        followers_per_user = [total_followers // number_of_User] * number_of_User\n",
    "        remaining_followers = total_followers % number_of_User\n",
    "        for i in range(remaining_followers):\n",
    "            followers_per_user[i] += 1\n",
    "        in_degrees = np.array(followers_per_user)\n",
    "\n",
    "    # Add nodes to the graph with in-degrees as attributes\n",
    "    num_of_Bot = round((number_of_User * percentage_of_Human_Bot))\n",
    "    if num_of_Bot == 0:\n",
    "        num_of_Bot += 1\n",
    "    # Create Human User\n",
    "    for x in range(1, number_of_User+1):\n",
    "        alignment = np.random.choice(inclination_List, p=inclination_rate)\n",
    "        system.add_node(x, label='user',  in_degree=int(in_degrees[x - 1]),susceptibility = random.uniform(0,1),inclination=alignment, bot=False, dis_eng=False,color=Human_Color)\n",
    "\n",
    "    # Create Bot User\n",
    "    bot_nodes = random.sample(system.nodes, num_of_Bot)\n",
    "    for node in system.nodes:\n",
    "        system.nodes[node]['bot'] = node in bot_nodes\n",
    "    for node in system.nodes:\n",
    "        if system.nodes[node]['bot'] == True:\n",
    "            system.nodes[node]['dis_eng'] = False\n",
    "            system.nodes[node]['color'] = Bot_Color"
   ]
  },
  {
   "cell_type": "code",
   "execution_count": 61,
   "metadata": {},
   "outputs": [],
   "source": [
    "def create_article_node(system, number_of_article, dis_info):\n",
    "    if time_flg == 0:\n",
    "        for post_id in range(number_of_article):\n",
    "            post_node_id = f'{post_id + 1}.1'\n",
    "            system.add_node(post_node_id, label='article', color = Article_Color,content=\"\")\n",
    "\n",
    "    if time_flg == 1: # Time involve\n",
    "        article_count = sum(1 for node in system.nodes() if system.nodes[node].get('label') == 'article')\n",
    "        post_node_id = f'{article_count+ 1}.1' # Need to change\n",
    "        if dis_info == True:\n",
    "            art_color_1 = Dis_Color\n",
    "        else:\n",
    "            art_color_1 = New_Article_Color\n",
    "        system.add_node(post_node_id, label='article', dis_info = dis_info, color = art_color_1,content=\"\")"
   ]
  },
  {
   "cell_type": "markdown",
   "metadata": {},
   "source": [
    "### Action (Post, Follow, Retweet) & Create Edges"
   ]
  },
  {
   "cell_type": "code",
   "execution_count": 73,
   "metadata": {},
   "outputs": [],
   "source": [
    "def create_edge(system, user, article, relation,content):\n",
    "    if relation == 'post':\n",
    "        system.add_edge(user, article, label = relation, content = content)\n",
    "        article_attributes = system.nodes[article]\n",
    "        user_attributes = system.nodes[user]\n",
    "                \n",
    "        article_attributes['dis_info'] = user_attributes['bot']\n",
    "        article_attributes['inclination'] = user_attributes['inclination']\n",
    "        if article_attributes['dis_info'] == True:\n",
    "                article_attributes['color'] = Dis_Color\n",
    "\n",
    "    elif relation == 'retweet':\n",
    "        system.add_edge(user, article, label = relation,content=content)\n",
    "        if system.nodes[article]['dis_info']== True:\n",
    "            system.nodes[user]['dis_eng']= True\n",
    "    elif relation == 'follow':\n",
    "        system.add_edge(user, article, label = relation)\n"
   ]
  },
  {
   "cell_type": "code",
   "execution_count": 63,
   "metadata": {},
   "outputs": [],
   "source": [
    "def retweet_behav(system, user_node):\n",
    "\n",
    "    followees=[] #list of user_nodes followed by user\n",
    "    followees_post = []\n",
    "    temp_list = list(system.successors(user_node)) # temporary list containing all nodes that user points to(posts and users)\n",
    "    for i in temp_list: #distributes temp_list's items to followees and posts\n",
    "        if system.nodes[i]['label']=='user':\n",
    "            followees.append(i)\n",
    "\n",
    "    for followee in followees:\n",
    "        followee_s_article = list(system.successors(followee))\n",
    "        for followee_article in followee_s_article: \n",
    "            if system.nodes[followee_article]['label']=='article':\n",
    "                followees_post.append(followee_article)\n",
    "\n",
    "    shuffled_posts = random.sample(followees_post, len(followees_post))\n",
    "    if shuffled_posts:\n",
    "        article_choice = random.choice(shuffled_posts)\n",
    "\n",
    "        if not system.has_edge(article_choice,user_node):\n",
    "            retweet_content= create_single_retweet_content(article_choice,system.nodes[user_node]['inclination'])\n",
    "            create_edge(system, user_node, article_choice, 'retweet',content=retweet_content)\n",
    "\n",
    "    \n",
    "    # for article in shuffled_posts:\n",
    "    #     if system.nodes[article]['inclination']==system.nodes[user_node]['inclination'] and not system.has_edge(article,user_node):\n",
    "    #         create_edge(system, user_node, article, 'retweet')\n",
    "    #         if system.nodes[article]['dis_info']== True:\n",
    "    #             system.nodes[user_node]['dis_eng']= True\n",
    "    #         break "
   ]
  },
  {
   "cell_type": "code",
   "execution_count": 64,
   "metadata": {},
   "outputs": [],
   "source": [
    "def action_retweet(system, user_node): # Given mapping list user: article (retweet)\n",
    "    if time_flg == 0: # Multi Article retweet\n",
    "        for user in user_node:\n",
    "            retweet_behav(system, user)\n",
    "\n",
    "    if time_flg == 1: # One Article Retweet\n",
    "        retweet_behav(system, user_node)"
   ]
  },
  {
   "cell_type": "code",
   "execution_count": 65,
   "metadata": {},
   "outputs": [],
   "source": [
    "def action_follow(system, user_node):\n",
    "    for i in range(1, len(user_node) + 1):\n",
    "        for j in range(1, len(user_node) + 1):\n",
    "            if i != j:  \n",
    "                # Probability of connection is proportional to the in-degree\n",
    "                connection_probability = system.nodes[j]['in_degree'] / len(user_node)\n",
    "                if np.random.rand() < connection_probability:\n",
    "                    create_edge(system, user_node[i-1], user_node[j-1], 'follow',None)\n",
    "\n"
   ]
  },
  {
   "cell_type": "code",
   "execution_count": 105,
   "metadata": {},
   "outputs": [],
   "source": [
    "def action_post(system, user_node, article_node):\n",
    "    global true_posts_copy\n",
    "    global fake_posts_copy\n",
    "    if time_flg == 0:\n",
    "        if Alg_assign_post == '2': # Random sampling to both Human and Robot\n",
    "            article_chosen_user = np.random.choice(user_node, size = len(article_node), replace=True)\n",
    "            for i in range(0, len(article_node)):\n",
    "                create_edge(system, article_chosen_user[i], article_node[i], 'post', \"\")\n",
    "                \n",
    "                #Assign content\n",
    "                article_attributes = system.nodes[article_node[i]]\n",
    "                user_attributes = system.nodes[article_chosen_user[i]]\n",
    "                rows = true_posts_copy[true_posts_copy['Inclination']==user_attributes['inclination']]\n",
    "                if not rows.empty:\n",
    "                    random_row = rows.sample(n=1)\n",
    "                    content = random_row['Content'].values[0]\n",
    "                    true_posts_copy = true_posts_copy.drop(random_row.index)\n",
    "                    article_attributes['content'] = content\n",
    "                    print(article_attributes['content'])\n",
    "    \n",
    "\n",
    "    if time_flg == 1:\n",
    "        create_edge(system, user_node, article_node, 'post',\"\")\n",
    "        article_attributes = system.nodes[article_node]\n",
    "        user_attributes = system.nodes[user_node]\n",
    "        if system.nodes[user_node]['bot']==False:\n",
    "            fake_rows = fake_posts_copy[fake_posts_copy['Inclination']==user_attributes['inclination']]\n",
    "            if not fake_rows.empty:\n",
    "                random_row = fake_rows.sample(n=1)\n",
    "                content = random_row['Content'].values[0]\n",
    "                fake_posts_copy = fake_posts_copy.drop(random_row.index)\n",
    "                article_attributes['content'] = content\n",
    "        else:\n",
    "            true_rows = true_posts_copy[true_posts_copy['Inclination']==user_attributes['inclination']]\n",
    "            if not true_rows.empty:\n",
    "                random_row = true_rows.sample(n=1)\n",
    "                content = random_row['Content'].values[0]\n",
    "                true_posts_copy = true_posts_copy.drop(random_row.index)\n",
    "                article_attributes['content'] = content\n",
    "            \n"
   ]
  },
  {
   "cell_type": "code",
   "execution_count": 113,
   "metadata": {},
   "outputs": [
    {
     "name": "stderr",
     "output_type": "stream",
     "text": [
      "C:\\Users\\rouslan\\AppData\\Local\\Temp\\ipykernel_2200\\1619312599.py:23: DeprecationWarning: Sampling from a set deprecated\n",
      "since Python 3.9 and will be removed in a subsequent version.\n",
      "  bot_nodes = random.sample(system.nodes, num_of_Bot)\n"
     ]
    },
    {
     "name": "stdout",
     "output_type": "stream",
     "text": [
      "\"Claims of unlawful procurement of emails by Mueller's team by Trump For America, Inc. adds to growing discord regarding the Russian meddling investigation. The integrity of the investigation process is crucial for its legitimacy. #Russiagate #MuellerInvestigation\"\n",
      "\n",
      "\"White House's expectation for an early wrap-up, coupled with allegations of bias and wastage, undermines Mueller's efforts. A truly democratic process should advocate for patience and trust in the inquiry, irrespective of its outcome. #TrustTheProcess #Democracy\"\n",
      "\n",
      "\"It’s crucial not just to focus on current allegations, also to consider how this could affect future presidential transitions. Alleged misappropriation of records is a serious concern that needs attention. #PresidentialTransition #Accountability\"\n",
      "\n",
      "\"Moreover, with transition team members like Flynn being implicated, it’s clear that the investigation serves a significant purpose. Discrediting without complete information is unjust. To maintain faith in our institutions, let due process take its course. #Flynn #DueProcess\"\n",
      "\"The incessant claims of unlawful behavior by Mueller's team have no basis. The belief that this investigation is an attempt to discredit Trump is unfounded. Transparency and cooperation is crucial in ensuring a just resolution. #Russiagate #MuellerInvestigation #Dems\"\n",
      "\"Despite Trump transition team's complaints about 'unlawful' procurement of emails, it's clear that Mueller's team has followed due processes. Accusations of bias further complicate the already tense climate. It's important to trust the process and the efforts to get to the truth. #MuellerInvestigation.\"\n",
      "\n",
      "\"It's also vital to highlight that members of Trump transition team have been implicated in Mueller's investigation, like Flynn who pleaded guilty to lying to the FBI. For unbiased justice, we need to allow thorough investigation into the allegations of election interference. #RussianMeddling\"\n",
      "\n",
      "\"Trump's strong denial of collusion and attempts to swiftly wrap up the process throws undue doubt on Mueller's investigation. We should encourage a fair inquiry free from political pressure to maintain faith in the democratic system. #TrustTheProcess\"\n",
      "\n",
      "\"On the other hand, Langhofer raises a point about protecting future presidential transitions from potential misuse of their records. For a robust democracy, it's crucial that we examine these concerns too, even as we support the present investigation. #DemocraticDialogue.\"\n"
     ]
    },
    {
     "data": {
      "image/png": "[encoded data removed]",
      "text/plain": [
       "<Figure size 1600x800 with 1 Axes>"
      ]
     },
     "metadata": {},
     "output_type": "display_data"
    }
   ],
   "source": [
    "# Creating a network with directed edges\n",
    "fig, ax = plt.subplots(figsize = (16,8))\n",
    "\n",
    "G = nx.DiGraph()\n",
    "\n",
    "\n",
    "# Initial Network \n",
    "time_flg = 0\n",
    "\n",
    "create_user_node(G, number_of_User)\n",
    "# get user: [1, 2, 3, 4, 5, 6, 7, 8, 9, 10]\n",
    "user_node = [node for node in G.nodes() if G.nodes[node]['label'] == 'user']\n",
    "action_follow(G, user_node)\n",
    "\n",
    "create_article_node(G, number_of_article, None)\n",
    "article_node = [node for node in G.nodes() if G.nodes[node]['label'] == 'article']\n",
    "action_post(G, user_node, article_node)\n",
    "action_retweet(G, user_node)\n",
    "\n",
    "# Time Start\n",
    "time_flg = 1\n",
    "start_ticks = time.process_time()\n",
    "\n",
    "# 1. action_post, 2, action_retweet\n",
    "actions = [1,2]\n",
    "\n",
    "for x in range(total_time):\n",
    "    for user in user_node:\n",
    "        if G.nodes[user]['bot'] == True:\n",
    "            chosen_action = random.choice(actions)\n",
    "            if chosen_action == 1:\n",
    "                create_article_node(G, post_per_tick, True)\n",
    "                new_num = [node for node in G.nodes() if G.nodes[node]['label'] == 'article']\n",
    "                action_post(G, user, f'{len(new_num)}.1')\n",
    "            if chosen_action == 2:\n",
    "                action_retweet(G, user)\n",
    "                \n",
    "        if G.nodes[user]['bot'] == False:\n",
    "            chosen_action = random.choice(actions)\n",
    "            if chosen_action == 1:\n",
    "                create_article_node(G, post_per_tick, False)\n",
    "                new_num = [node for node in G.nodes() if G.nodes[node]['label'] == 'article']\n",
    "                action_post(G, user, f'{len(new_num)}.1')\n",
    "            if chosen_action == 2:\n",
    "                action_retweet(G, user)\n",
    "\n",
    "color_map = [data['color']for node, data in G.nodes(data=True)]\n",
    "\n",
    "nx.draw(G,with_labels=True, ax = ax, node_color=color_map)\n",
    "plt.show()"
   ]
  },
  {
   "cell_type": "markdown",
   "metadata": {},
   "source": [
    "### Generating Initial Tweets"
   ]
  },
  {
   "cell_type": "code",
   "execution_count": 19,
   "metadata": {},
   "outputs": [],
   "source": [
    "file_path = 'true.csv'\n",
    "target_row_index = 117\n",
    "target_column_name = 'text'\n",
    "\n",
    "with open(file_path, 'r', newline='',encoding='utf-8') as file:\n",
    "    # Create a CSV reader object for dictionaries\n",
    "    csv_reader = csv.DictReader(file)\n",
    "\n",
    "    # Skip to the target row\n",
    "    for _ in range(target_row_index):\n",
    "        next(csv_reader)\n",
    "\n",
    "    # Read the target row\n",
    "    target_row = next(csv_reader)\n",
    "\n",
    "    # Access the desired column in the target row\n",
    "    nondisinfo_article = target_row[target_column_name]"
   ]
  },
  {
   "cell_type": "code",
   "execution_count": 20,
   "metadata": {},
   "outputs": [],
   "source": [
    "file_path_2 = 'fake.csv'\n",
    "target_row_index_2 = 1\n",
    "\n",
    "with open(file_path_2, 'r', newline='',encoding='utf-8') as file:\n",
    "    # Create a CSV reader object for dictionaries\n",
    "    csv_reader = csv.DictReader(file)\n",
    "\n",
    "    # Skip to the target row\n",
    "    for _ in range(target_row_index_2):\n",
    "        next(csv_reader)\n",
    "\n",
    "    # Read the target row\n",
    "    target_row = next(csv_reader)\n",
    "\n",
    "    # Access the desired column in the target row\n",
    "    disinfo_article = target_row[target_column_name]"
   ]
  },
  {
   "cell_type": "code",
   "execution_count": 21,
   "metadata": {},
   "outputs": [],
   "source": [
    "def create_post_content(total_post_count,post_alignment,article):\n",
    "    posts = []\n",
    "    initial_prompt = \"Generate a tweet based on this article {} that aims to be part of an online conversation\".format(article)\n",
    "    user_prompt = \"Bring more nuance to the conversation by touching upon different parts of the following article {}\".format(article)\n",
    "    conversation = [{\"role\": \"system\", \"content\": \"You are trying to engage in the online conversation from a {} point of view\".format(post_alignment)},\n",
    "    {\"role\": \"user\", \"content\": initial_prompt}]\n",
    "    \n",
    "    for _ in range(total_post_count):\n",
    "        response = openai.ChatCompletion.create(\n",
    "        model=\"gpt-4\",\n",
    "        messages= conversation\n",
    "        )\n",
    "        assistant_reply = response['choices'][0]['message']['content']\n",
    "        conversation.append({\"role\": \"assistant\", \"content\": assistant_reply})\n",
    "        conversation.append({\"role\":\"user\",\"content\":user_prompt})\n",
    "        posts.append(assistant_reply)\n",
    "    return posts"
   ]
  },
  {
   "cell_type": "code",
   "execution_count": 22,
   "metadata": {},
   "outputs": [],
   "source": [
    "def create_fake_post_content(total_post_count,post_alignment,article):\n",
    "    posts = []\n",
    "    initial_prompt = \"Generate a tweet based on this article {} that aims to be part of an online disinformation campaign\".format(article)\n",
    "    user_prompt = \"Bring more nuance to the conversation by touching upon different parts of the following article {}\".format(article)\n",
    "    conversation = [{\"role\": \"system\", \"content\": \"You are trying to engage in the disinformation campaign from a {} point of view\".format(post_alignment)},\n",
    "    {\"role\": \"user\", \"content\": initial_prompt}]\n",
    "    \n",
    "    for _ in range(total_post_count):\n",
    "        response = openai.ChatCompletion.create(\n",
    "        model=\"gpt-4\",\n",
    "        messages= conversation\n",
    "        )\n",
    "        assistant_reply = response['choices'][0]['message']['content']\n",
    "        conversation.append({\"role\": \"assistant\", \"content\": assistant_reply})\n",
    "        conversation.append({\"role\":\"user\",\"content\":user_prompt})\n",
    "        posts.append(assistant_reply)\n",
    "    return posts"
   ]
  },
  {
   "cell_type": "code",
   "execution_count": 25,
   "metadata": {
    "scrolled": true
   },
   "outputs": [],
   "source": [
    "center_posts = create_post_content(3,'centrist',nondisinfo_article)"
   ]
  },
  {
   "cell_type": "code",
   "execution_count": 26,
   "metadata": {},
   "outputs": [],
   "source": [
    "left_posts = create_post_content(3,'leftist',nondisinfo_article)"
   ]
  },
  {
   "cell_type": "code",
   "execution_count": 27,
   "metadata": {},
   "outputs": [],
   "source": [
    "right_posts = create_post_content(3,'right wing',nondisinfo_article)"
   ]
  },
  {
   "cell_type": "code",
   "execution_count": 28,
   "metadata": {},
   "outputs": [],
   "source": [
    "true_posts = pd.DataFrame({\n",
    "    'Content': center_posts + left_posts + right_posts,\n",
    "    'Inclination': (['centrist'] * 3) + (['leftist'] * 3) + (['right wing'] * 3)\n",
    "})\n"
   ]
  },
  {
   "cell_type": "code",
   "execution_count": 29,
   "metadata": {},
   "outputs": [],
   "source": [
    "left_fake_posts = create_fake_post_content(3,'leftist',disinfo_article)"
   ]
  },
  {
   "cell_type": "code",
   "execution_count": 30,
   "metadata": {},
   "outputs": [],
   "source": [
    "right_fake_posts = create_fake_post_content(3,'right wing',disinfo_article)"
   ]
  },
  {
   "cell_type": "code",
   "execution_count": 31,
   "metadata": {},
   "outputs": [],
   "source": [
    "center_fake_posts = create_fake_post_content(3,'centrist',disinfo_article)"
   ]
  },
  {
   "cell_type": "code",
   "execution_count": 32,
   "metadata": {},
   "outputs": [],
   "source": [
    "fake_posts = pd.DataFrame({\n",
    "    'Content': center_fake_posts + left_fake_posts + right_fake_posts,\n",
    "    'Inclination': (['centrist'] * 3) + (['leftist'] * 3) + (['right wing'] * 3)\n",
    "})"
   ]
  },
  {
   "cell_type": "code",
   "execution_count": 104,
   "metadata": {
    "scrolled": true
   },
   "outputs": [],
   "source": [
    "true_posts_copy = true_posts.copy(deep=True)\n",
    "fake_posts_copy = fake_posts.copy(deep=True)"
   ]
  },
  {
   "cell_type": "code",
   "execution_count": 38,
   "metadata": {},
   "outputs": [
    {
     "data": {
      "text/html": [
       "<div>\n",
       "<style scoped>\n",
       "    .dataframe tbody tr th:only-of-type {\n",
       "        vertical-align: middle;\n",
       "    }\n",
       "\n",
       "    .dataframe tbody tr th {\n",
       "        vertical-align: top;\n",
       "    }\n",
       "\n",
       "    .dataframe thead th {\n",
       "        text-align: right;\n",
       "    }\n",
       "</style>\n",
       "<table border=\"1\" class=\"dataframe\">\n",
       "  <thead>\n",
       "    <tr style=\"text-align: right;\">\n",
       "      <th></th>\n",
       "      <th>Content</th>\n",
       "      <th>Inclination</th>\n",
       "    </tr>\n",
       "  </thead>\n",
       "  <tbody>\n",
       "    <tr>\n",
       "      <th>0</th>\n",
       "      <td>\"Documents obtained by the #NYtimes reveal sur...</td>\n",
       "      <td>centrist</td>\n",
       "    </tr>\n",
       "    <tr>\n",
       "      <th>1</th>\n",
       "      <td>\"Shocking revelations question the foundations...</td>\n",
       "      <td>centrist</td>\n",
       "    </tr>\n",
       "    <tr>\n",
       "      <th>2</th>\n",
       "      <td>\"New insights redraw the narrative of the #Rus...</td>\n",
       "      <td>centrist</td>\n",
       "    </tr>\n",
       "    <tr>\n",
       "      <th>3</th>\n",
       "      <td>New truth uncovered! #DevinNunes aimed at the ...</td>\n",
       "      <td>leftist</td>\n",
       "    </tr>\n",
       "    <tr>\n",
       "      <th>4</th>\n",
       "      <td>The real start of the Russia investigation? It...</td>\n",
       "      <td>leftist</td>\n",
       "    </tr>\n",
       "    <tr>\n",
       "      <th>5</th>\n",
       "      <td>Shocking turn in Russia investigation! It wasn...</td>\n",
       "      <td>leftist</td>\n",
       "    </tr>\n",
       "    <tr>\n",
       "      <th>6</th>\n",
       "      <td>\"HEADS UP: Fakes news alert! The liberal media...</td>\n",
       "      <td>right wing</td>\n",
       "    </tr>\n",
       "    <tr>\n",
       "      <th>7</th>\n",
       "      <td>\"Liberal media &amp; the NY Times are hard at work...</td>\n",
       "      <td>right wing</td>\n",
       "    </tr>\n",
       "    <tr>\n",
       "      <th>8</th>\n",
       "      <td>\"Once again, the left displays their one-sided...</td>\n",
       "      <td>right wing</td>\n",
       "    </tr>\n",
       "  </tbody>\n",
       "</table>\n",
       "</div>"
      ],
      "text/plain": [
       "                                             Content Inclination\n",
       "0  \"Documents obtained by the #NYtimes reveal sur...    centrist\n",
       "1  \"Shocking revelations question the foundations...    centrist\n",
       "2  \"New insights redraw the narrative of the #Rus...    centrist\n",
       "3  New truth uncovered! #DevinNunes aimed at the ...     leftist\n",
       "4  The real start of the Russia investigation? It...     leftist\n",
       "5  Shocking turn in Russia investigation! It wasn...     leftist\n",
       "6  \"HEADS UP: Fakes news alert! The liberal media...  right wing\n",
       "7  \"Liberal media & the NY Times are hard at work...  right wing\n",
       "8  \"Once again, the left displays their one-sided...  right wing"
      ]
     },
     "execution_count": 38,
     "metadata": {},
     "output_type": "execute_result"
    }
   ],
   "source": [
    "fake_posts"
   ]
  },
  {
   "cell_type": "code",
   "execution_count": 59,
   "metadata": {},
   "outputs": [],
   "source": [
    "def create_single_retweet_content(post,user_alignment):\n",
    "    prompt = \"Generate a retweet of this tweet {} and have a {} point of view\".format(post,user_alignment)\n",
    "    response = openai.ChatCompletion.create(\n",
    "        model=\"gpt-4\",\n",
    "        messages=[\n",
    "        {\"role\":\"system\", \"content\":\"You find the content of the tweet interesting\"},\n",
    "        {\"role\": \"user\", \"content\": prompt}\n",
    "        ]\n",
    "    )\n",
    "    \n",
    "    return response['choices'][0]['message']['content']"
   ]
  },
  {
   "cell_type": "markdown",
   "metadata": {},
   "source": [
    "### Write output to excel files\n",
    "1. User node file: Nodes, in_degree, susceptibility, inclination, human/ robot\n",
    "2. User connection (follow): User, User \n",
    "3. Article node file: Article Node, Content\tAuthor\n",
    "4. Article connection (follow): Article, retweeted by"
   ]
  },
  {
   "cell_type": "code",
   "execution_count": 108,
   "metadata": {},
   "outputs": [
    {
     "name": "stdout",
     "output_type": "stream",
     "text": [
      "   User Node  In Degree Inclination    bot  disinfo eng\n",
      "0          1          6  right wing  False        False\n",
      "1          2         10  right wing  False        False\n",
      "  Article Node                                            Article Inclination  \\\n",
      "0          1.1  \"Disturbing revelations about the Mueller inve...  right wing   \n",
      "1          2.1  \"Disconcerting to hear that Robert Mueller's t...  right wing   \n",
      "2          3.1  \"Concerning reports that Special Counsel Rober...  right wing   \n",
      "3          4.1  \"Once again, the left displays their one-sided...  right wing   \n",
      "4          5.1  \"HEADS UP: Fakes news alert! The liberal media...  right wing   \n",
      "5          6.1  \"Liberal media & the NY Times are hard at work...  right wing   \n",
      "6          7.1                                                     right wing   \n",
      "\n",
      "   disinformation  \n",
      "0           False  \n",
      "1           False  \n",
      "2           False  \n",
      "3           False  \n",
      "4           False  \n",
      "5           False  \n",
      "6           False  \n"
     ]
    }
   ],
   "source": [
    "df_user_node = []\n",
    "df_article_node = []\n",
    "\n",
    "# Collect data in a list\n",
    "for node, data in G.nodes(data=True):\n",
    "    if data['label'] == 'user':\n",
    "        df_user_node.append([node, data['in_degree'], data['inclination'], data['bot'], data['dis_eng']])\n",
    "    if data['label'] == 'article':\n",
    "        df_article_node.append([node, data['content'], data['inclination'], data['dis_info'] ])\n",
    "\n",
    "# Create a DataFrame\n",
    "df_user_node_columns = ['User Node', 'In Degree', 'Inclination', 'bot', 'disinfo eng']\n",
    "df_article_node_columns = ['Article Node', 'Article', 'Inclination', 'disinformation']\n",
    "df_user_node_file = pd.DataFrame(df_user_node, columns=df_user_node_columns)\n",
    "df_article_node_file = pd.DataFrame(df_article_node, columns=df_article_node_columns)\n",
    "\n",
    "# Print DataFrame\n",
    "print(df_user_node_file)\n",
    "print(df_article_node_file)\n",
    "\n",
    "# Write DataFrame to CSV file\n",
    "df_user_node_file.to_csv('User_Node.csv', index=False)\n",
    "df_article_node_file.to_csv('Article_Node.csv', index=False)"
   ]
  },
  {
   "cell_type": "code",
   "execution_count": 99,
   "metadata": {},
   "outputs": [
    {
     "name": "stdout",
     "output_type": "stream",
     "text": [
      "   User Node  Original User\n",
      "0          1              2\n",
      "1          2              1\n",
      "   User Original Article                                            content\n",
      "0     1              1.1  \"Really intrigued by the ideas presented here ...\n",
      "1     2              1.1  \"Insightful points made in tweet 1.1. It's cle...\n",
      "2     2              2.1  \"Absolutely fascinating insights in tweet 2.1!...\n",
      "   Arthor Article\n",
      "0       1     2.1\n",
      "1       1     4.1\n",
      "2       1     6.1\n",
      "3       1     7.1\n",
      "4       2     3.1\n",
      "5       2     5.1\n",
      "6       2     8.1\n"
     ]
    }
   ],
   "source": [
    "user_follow = []\n",
    "article_retweet = []\n",
    "article_post = []\n",
    "\n",
    "for edge in G.edges(data=True):\n",
    "    if edge[2].get('label') == 'follow':\n",
    "        user_follow.append([edge[0], edge[1]])\n",
    "    if edge[2].get('label') == 'retweet':\n",
    "        article_retweet.append([edge[0], edge[1],edge[2].get('content')])\n",
    "    if edge[2].get('label') == 'post':\n",
    "        article_post.append([edge[0], edge[1]])\n",
    "\n",
    "#Create a DataFrame column\n",
    "df_user_follow = ['User Node', 'Original User']\n",
    "df_article_retweet = ['User', 'Original Article', 'content']\n",
    "df_user_post = ['Arthor', 'Article']\n",
    "\n",
    "# Create a DataFrame\n",
    "df_user_follow_file = pd.DataFrame(user_follow, columns=df_user_follow)\n",
    "df_article_retweet_file = pd.DataFrame(article_retweet, columns=df_article_retweet)\n",
    "df_user_post_file = pd.DataFrame(article_post, columns=df_user_post)\n",
    "\n",
    "# Print DataFrame\n",
    "print(df_user_follow_file)\n",
    "print(df_article_retweet_file)\n",
    "print(df_user_post_file)\n",
    "\n",
    "# Write DataFrame to CSV file\n",
    "df_user_follow_file.to_csv('User_Follow.csv', index=False)\n",
    "df_article_retweet_file.to_csv('Article_Retweet.csv', index=False)\n",
    "df_user_post_file.to_csv('Article_Post.csv', index=False)\n"
   ]
  },
  {
   "cell_type": "code",
   "execution_count": 39,
   "metadata": {},
   "outputs": [],
   "source": [
    "true_posts.to_csv('true_posts.csv', index=False)"
   ]
  },
  {
   "cell_type": "code",
   "execution_count": 40,
   "metadata": {},
   "outputs": [],
   "source": [
    "fake_posts.to_csv('fake_posts.csv',index=False)"
   ]
  }
 ],
 "metadata": {
  "kernelspec": {
   "display_name": "Python 3 (ipykernel)",
   "language": "python",
   "name": "python3"
  },
  "language_info": {
   "codemirror_mode": {
    "name": "ipython",
    "version": 3
   },
   "file_extension": ".py",
   "mimetype": "text/x-python",
   "name": "python",
   "nbconvert_exporter": "python",
   "pygments_lexer": "ipython3",
   "version": "3.9.13"
  }
 },
 "nbformat": 4,
 "nbformat_minor": 2
}
